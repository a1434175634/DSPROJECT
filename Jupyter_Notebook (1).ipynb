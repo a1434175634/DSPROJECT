{
 "cells": [
  {
   "cell_type": "markdown",
   "metadata": {},
   "source": [
    "<center>\n",
    "    <img src=\"https://cf-courses-data.s3.us.cloud-object-storage.appdomain.cloud/IBMDeveloperSkillsNetwork-DS0105EN-SkillsNetwork/labs/Module2/images/SN_web_lightmode.png\" width=\"300\" alt=\"cognitiveclass.ai logo\">\n",
    "</center>\n"
   ]
  },
  {
   "cell_type": "markdown",
   "metadata": {},
   "source": [
    "#### Add your code below following the instructions given in the course\n"
   ]
  },
  {
   "cell_type": "markdown",
   "metadata": {},
   "source": [
    "2. \n",
    "\n",
    "<h1>Welcome to my Data Science Notebook!</h1>\n"
   ]
  },
  {
   "cell_type": "markdown",
   "metadata": {},
   "source": [
    "\n",
    "\n",
    "<h1>Data Science!</h1>"
   ]
  },
  {
   "cell_type": "markdown",
   "metadata": {},
   "source": [
    "3\n",
    "\n",
    "Welcome to my Data Science Notebook! In this notebook, we'll explore various aspects of data science, including programming languages, libraries, and tools commonly used in the field.\n"
   ]
  },
  {
   "cell_type": "markdown",
   "metadata": {
    "tags": []
   },
   "source": [
    "4\n",
    "\n",
    "- Python\n",
    "- R\n",
    "- SQL\n",
    "- Java\n",
    "- Julia\n",
    "- Scala\n",
    "- C/C++\n",
    "- JavaScript"
   ]
  },
  {
   "cell_type": "markdown",
   "metadata": {},
   "source": [
    "5\n",
    "\n",
    "- TensorFlow\n",
    "- NumPy\n",
    "- SciPy\n",
    "- Pandas\n",
    "- Matplotlib\n",
    "- Keras\n",
    "- SciKit-Learn\n",
    "- PyTorch\n",
    "- Scrapy\n",
    "- BeautifulSoup\n",
    "- LightGBM\n",
    "- ELI5\n",
    "- Theano\n",
    "- NuPIC\n",
    "- Ramp\n",
    "- Pipenv\n",
    "- Bob\n",
    "- PyBrain\n",
    "- Caffe2\n",
    "- Chainer"
   ]
  },
  {
   "cell_type": "code",
   "execution_count": 3,
   "metadata": {
    "tags": []
   },
   "outputs": [
    {
     "name": "stdout",
     "output_type": "stream",
     "text": [
      "Example 1: 8\n",
      "Example 2: 6\n",
      "Example 3: 21\n",
      "Example 4: 5.0\n",
      "Example 5: 5\n"
     ]
    }
   ],
   "source": [
    "#7\n",
    "\n",
    "# Example 1\n",
    "result1 = 5 + 3\n",
    "print(\"Example 1:\", result1)\n",
    "\n",
    "# Example 2\n",
    "result2 = 10 - 4\n",
    "print(\"Example 2:\", result2)\n",
    "\n",
    "# Example 3\n",
    "result3 = 3 * 7\n",
    "print(\"Example 3:\", result3)\n",
    "\n",
    "# Example 4\n",
    "result4 = 15 / 3\n",
    "print(\"Example 4:\", result4)\n",
    "\n",
    "# Example 5\n",
    "result5 = 15 // 3\n",
    "print(\"Example 5:\", result5)"
   ]
  },
  {
   "cell_type": "code",
   "execution_count": 4,
   "metadata": {
    "tags": []
   },
   "outputs": [
    {
     "name": "stdout",
     "output_type": "stream",
     "text": [
      "Result of multiplication: 50\n",
      "Result of addition: 52\n"
     ]
    }
   ],
   "source": [
    "#8\n",
    "\n",
    "# Multiply and Add Numbers\n",
    "number1 = 10\n",
    "number2 = 5\n",
    "number3 = 2\n",
    "\n",
    "# Multiply\n",
    "result_multiply = number1 * number2\n",
    "print(\"Result of multiplication:\", result_multiply)\n",
    "\n",
    "# Add\n",
    "result_add = result_multiply + number3\n",
    "print(\"Result of addition:\", result_add)"
   ]
  },
  {
   "cell_type": "code",
   "execution_count": 5,
   "metadata": {
    "tags": []
   },
   "outputs": [
    {
     "name": "stdout",
     "output_type": "stream",
     "text": [
      "120 minutes is equal to 2.0 hours\n"
     ]
    }
   ],
   "source": [
    "#9\n",
    "\n",
    "# Convert Minutes to Hours\n",
    "minutes = 120\n",
    "\n",
    "# Conversion\n",
    "hours = minutes / 60\n",
    "\n",
    "# Display the result\n",
    "print(f\"{minutes} minutes is equal to {hours} hours\")"
   ]
  },
  {
   "cell_type": "markdown",
   "metadata": {},
   "source": [
    "10\n",
    "Objectives:\n",
    "\n",
    "- List popular languages that Data Scientists use.\n",
    "- List commonly used libraries used by Data Scientists.\n",
    "- Comment on Data Science tools."
   ]
  },
  {
   "cell_type": "markdown",
   "metadata": {},
   "source": [
    "<h1>Author:<h1>\n",
    "\n",
    "Yuxiang Cheng"
   ]
  },
  {
   "cell_type": "code",
   "execution_count": null,
   "metadata": {},
   "outputs": [],
   "source": []
  }
 ],
 "metadata": {
  "kernelspec": {
   "display_name": "Python",
   "language": "python",
   "name": "conda-env-python-py"
  },
  "language_info": {
   "codemirror_mode": {
    "name": "ipython",
    "version": 3
   },
   "file_extension": ".py",
   "mimetype": "text/x-python",
   "name": "python",
   "nbconvert_exporter": "python",
   "pygments_lexer": "ipython3",
   "version": "3.7.12"
  }
 },
 "nbformat": 4,
 "nbformat_minor": 4
}
